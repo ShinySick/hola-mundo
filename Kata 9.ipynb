{
 "cells": [
  {
   "cell_type": "markdown",
   "metadata": {},
   "source": [
    "# Ejercicio 1 Uso de Funciones en Python"
   ]
  },
  {
   "cell_type": "markdown",
   "metadata": {},
   "source": [
    "### Trabajar con argumentos en python"
   ]
  },
  {
   "cell_type": "code",
   "execution_count": 27,
   "metadata": {},
   "outputs": [
    {
     "name": "stdout",
     "output_type": "stream",
     "text": [
      "El combustible promedio de la nave es el siguiente:\n",
      "Combustible promedio: 578.0 \n",
      "El Tanque 1 tiene: 1563\n",
      "El tanque 2 tiene: 15\n",
      "El tanque 3 tiene: 156\n"
     ]
    }
   ],
   "source": [
    "def informeCombustible(combustible, combustible2, combustible3):\n",
    "    promedio = (combustible + combustible2 + combustible3) / 3\n",
    "    return f'El combustible promedio de la nave es el siguiente:\\nCombustible promedio: {promedio} \\nEl Tanque 1 tiene: {combustible}\\nEl tanque 2 tiene: {combustible2}\\nEl tanque 3 tiene: {combustible3}'\n",
    "\n",
    "print(informeCombustible(1563, 15, 156))\n",
    "    "
   ]
  },
  {
   "cell_type": "code",
   "execution_count": 28,
   "metadata": {},
   "outputs": [
    {
     "name": "stdout",
     "output_type": "stream",
     "text": [
      "El promedio de combustible en la nave es de: 578.0\n"
     ]
    }
   ],
   "source": [
    "def promedioCombustible(valores):\n",
    "    suma = sum(valores)\n",
    "    numero = len(valores)\n",
    "    \n",
    "    return suma/numero\n",
    "\n",
    "\n",
    "\n",
    "\n",
    "print(f'El promedio de combustible en la nave es de: {promedioCombustible([1563 ,15 ,156])}')\n"
   ]
  },
  {
   "cell_type": "code",
   "execution_count": 32,
   "metadata": {},
   "outputs": [
    {
     "name": "stdout",
     "output_type": "stream",
     "text": [
      "El reporte de combustible de la nave es el siguiente:\n",
      "Combustible promedio: 578.0 \n",
      "El Tanque 1 tiene: 1563\n",
      "El tanque 2 tiene: 15\n",
      "El tanque 3 tiene: 156\n"
     ]
    }
   ],
   "source": [
    "def informeCombustible(combustible, combustible2, combustible3):\n",
    "   \n",
    "    return f'El reporte de combustible de la nave es el siguiente:\\nCombustible promedio: {promedioCombustible([1563, 15, 156])} \\nEl Tanque 1 tiene: {combustible}\\nEl tanque 2 tiene: {combustible2}\\nEl tanque 3 tiene: {combustible3}'\n",
    "\n",
    "print(informeCombustible(1563, 15, 156))\n"
   ]
  },
  {
   "cell_type": "markdown",
   "metadata": {},
   "source": [
    "# Ejercicio 2 Trabajo con argumentos de palabra clave"
   ]
  },
  {
   "cell_type": "markdown",
   "metadata": {},
   "source": [
    "### Trabajar con argumentos de palabras clave en funciones"
   ]
  },
  {
   "cell_type": "code",
   "execution_count": 35,
   "metadata": {},
   "outputs": [
    {
     "name": "stdout",
     "output_type": "stream",
     "text": [
      "Mision a La luna \n",
      "Tiempo de viaje total: 25 minutos. \n",
      "Combustible total restante: 1600 litros.\n"
     ]
    }
   ],
   "source": [
    "def reporteCohete(preLanzamiento, tiempoVuelo, destino, tanqueExterno, tanquePrincipal):\n",
    "    return f'Mision a {destino} \\nTiempo de viaje total: {preLanzamiento+tiempoVuelo} minutos. \\nCombustible total restante: {tanqueExterno+tanquePrincipal} litros.'\n",
    "\n",
    "print(reporteCohete(10, 15, \"La luna\", 560, 1040))"
   ]
  },
  {
   "cell_type": "code",
   "execution_count": 36,
   "metadata": {},
   "outputs": [
    {
     "name": "stdout",
     "output_type": "stream",
     "text": [
      "Mision a La Luna \n",
      "Tiempo de viaje total: 100 minutos. \n",
      "Combustible total restante: 10000 litros.\n"
     ]
    }
   ],
   "source": [
    "def reporteCohete(destino, *minutos, **reservasCombustible):\n",
    "    return f'Mision a {destino} \\nTiempo de viaje total: {sum(minutos)} minutos. \\nCombustible total restante: {sum(reservasCombustible.values())} litros.'\n",
    "\n",
    "print(reporteCohete(\"La Luna\", 15, 20, 50, 5, 10, tanquePrincipal=5000, tanqueSecundario=3000, tanqueReserva=2000))"
   ]
  },
  {
   "cell_type": "code",
   "execution_count": 41,
   "metadata": {},
   "outputs": [
    {
     "name": "stdout",
     "output_type": "stream",
     "text": [
      "Mision a La Luna \n",
      "Tiempo de viaje total: 100 minutos. \n",
      "Combustible total restante: 10000 litros.\n",
      "tanquePrincipal contiene: 5000 Litros restantes\n",
      "\n",
      "tanqueSecundario contiene: 3000 Litros restantes\n",
      "\n",
      "tanqueReserva contiene: 2000 Litros restantes\n",
      "\n"
     ]
    }
   ],
   "source": [
    "def reporteCohete(destino, *minutos, **reservasCombustible):\n",
    "    reportePrincipal = f'Mision a {destino} \\nTiempo de viaje total: {sum(minutos)} minutos. \\nCombustible total restante: {sum(reservasCombustible.values())} litros.'\n",
    "    \n",
    "    for nombreTanque, litros in reservasCombustible.items():\n",
    "        reportePrincipal += f\"\\n{nombreTanque} contiene: {litros} Litros restantes\\n\"\n",
    "    return reportePrincipal\n",
    "print(reporteCohete(\"La Luna\", 15, 20, 50, 5, 10, tanquePrincipal=5000, tanqueSecundario=3000, tanqueReserva=2000))"
   ]
  }
 ],
 "metadata": {
  "interpreter": {
   "hash": "669f5abd92f1a410df15b0643b9f42360e277a412fc08ae8bc7d7911cf7e8f3d"
  },
  "kernelspec": {
   "display_name": "Python 3.10.2 64-bit",
   "language": "python",
   "name": "python3"
  },
  "language_info": {
   "codemirror_mode": {
    "name": "ipython",
    "version": 3
   },
   "file_extension": ".py",
   "mimetype": "text/x-python",
   "name": "python",
   "nbconvert_exporter": "python",
   "pygments_lexer": "ipython3",
   "version": "3.10.2"
  },
  "orig_nbformat": 4
 },
 "nbformat": 4,
 "nbformat_minor": 2
}
