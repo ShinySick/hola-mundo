{
 "cells": [
  {
   "cell_type": "markdown",
   "metadata": {},
   "source": [
    "# Ejercicio 1 - Utilizar operadores aritméticos"
   ]
  },
  {
   "cell_type": "code",
   "execution_count": 28,
   "metadata": {},
   "outputs": [],
   "source": [
    "tierra = 149597870\n",
    "jupiter = 778547200"
   ]
  },
  {
   "cell_type": "markdown",
   "metadata": {},
   "source": [
    "### Realizar la operación"
   ]
  },
  {
   "cell_type": "code",
   "execution_count": 30,
   "metadata": {},
   "outputs": [
    {
     "name": "stdout",
     "output_type": "stream",
     "text": [
      "La distancia en Kilometros es de:  628949330\n",
      "La distancia en Millas es de:  390829113.66199994\n"
     ]
    }
   ],
   "source": [
    "tierra = 149597870\n",
    "jupiter = 778547200\n",
    "\n",
    "distanciaKm = jupiter - tierra \n",
    "print(\"La distancia en Kilometros es de: \", distanciaKm)\n",
    "\n",
    "distanciaMi = distanciaKm * 0.6214\n",
    "\n",
    "print(\"La distancia en Millas es de: \", distanciaMi)"
   ]
  },
  {
   "cell_type": "markdown",
   "metadata": {},
   "source": [
    "# Ejercicio 2 Convierte cadenas en números y usa los valores absolutos"
   ]
  },
  {
   "cell_type": "code",
   "execution_count": 32,
   "metadata": {},
   "outputs": [
    {
     "name": "stdout",
     "output_type": "stream",
     "text": [
      "La distancia en Kilometros es de:  50300000\n",
      "La distancia en Millas es de:  31256419.999999996\n"
     ]
    }
   ],
   "source": [
    "planeta1 = input(\"Introduce la distancia del primer planeta:\")\n",
    "planeta2 = input(\"Introduce la distancia del segundo planeta:\")\n",
    "\n",
    "planetaInt1 = int(planeta1)\n",
    "planetaInt2 = int(planeta2)\n",
    "\n",
    "distanciaKm = planetaInt2 - planetaInt1\n",
    "print(\"La distancia en Kilometros es de: \", abs(distanciaKm))\n",
    "\n",
    "distanciaMi = distanciaKm * 0.6214\n",
    "print(\"La distancia en Millas es de: \", abs(distanciaMi))\n"
   ]
  }
 ],
 "metadata": {
  "interpreter": {
   "hash": "7fe5bbe798fea9e343f1569ed05771b59e4137ae4cd800ac72506a3d4fc0a4e1"
  },
  "kernelspec": {
   "display_name": "Python 3.10.2 64-bit (windows store)",
   "language": "python",
   "name": "python3"
  },
  "language_info": {
   "codemirror_mode": {
    "name": "ipython",
    "version": 3
   },
   "file_extension": ".py",
   "mimetype": "text/x-python",
   "name": "python",
   "nbconvert_exporter": "python",
   "pygments_lexer": "ipython3",
   "version": "3.10.2"
  },
  "orig_nbformat": 4
 },
 "nbformat": 4,
 "nbformat_minor": 2
}
