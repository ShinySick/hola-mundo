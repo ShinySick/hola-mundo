{
 "cells": [
  {
   "cell_type": "markdown",
   "metadata": {},
   "source": [
    "# Kata 3"
   ]
  },
  {
   "cell_type": "markdown",
   "metadata": {},
   "source": [
    "### Expresion de prueba"
   ]
  },
  {
   "cell_type": "code",
   "execution_count": 4,
   "metadata": {},
   "outputs": [],
   "source": [
    "# Tip de práctica 1: Intenta ejecutarlo en un notebook.\n",
    "a = 97\n",
    "b = 55\n",
    "# test expression / expresión de prueba\n",
    "if a < b:\n",
    "    # statement to be run / instrucción a ejecutar\n",
    "    print(b)"
   ]
  },
  {
   "cell_type": "markdown",
   "metadata": {},
   "source": [
    "### Problema 1"
   ]
  },
  {
   "cell_type": "code",
   "execution_count": 48,
   "metadata": {},
   "outputs": [
    {
     "name": "stdout",
     "output_type": "stream",
     "text": [
      "Advertencia de colision de meteorito\n"
     ]
    }
   ],
   "source": [
    "velocidadBase = 0\n",
    "limite = 25\n",
    "\n",
    "velocidadBase = input(\"Introduce una velocidad para el asteroide:\")\n",
    "\n",
    "if int(velocidadBase) > limite:\n",
    "    print(\"Advertencia de colision de meteorito\")\n",
    "else:\n",
    "    print(\"Nada de que preocuparse\")"
   ]
  },
  {
   "cell_type": "markdown",
   "metadata": {},
   "source": [
    "### Problema 2"
   ]
  },
  {
   "cell_type": "code",
   "execution_count": 53,
   "metadata": {},
   "outputs": [
    {
     "name": "stdout",
     "output_type": "stream",
     "text": [
      "No serás capaz de ver el rayo de luz desde la tierra\n"
     ]
    }
   ],
   "source": [
    "velocidadAsteroide = 19\n",
    "limite = 20\n",
    "\n",
    "if velocidadAsteroide > limite:\n",
    "    print(\"Serás capaz de ver el rayo de luz desde la tierra\")\n",
    "elif velocidadAsteroide == limite:\n",
    "    print(\"Serás capaz de ver el rayo de luz desde la tierra\")\n",
    "else:\n",
    "    print(\"No serás capaz de ver el rayo de luz desde la tierra\")"
   ]
  },
  {
   "cell_type": "markdown",
   "metadata": {},
   "source": [
    "### Problema 3"
   ]
  },
  {
   "cell_type": "code",
   "execution_count": 106,
   "metadata": {},
   "outputs": [
    {
     "name": "stdout",
     "output_type": "stream",
     "text": [
      "Verás una luz en el cielo desde la tierra.\n"
     ]
    }
   ],
   "source": [
    "sizeAsteroide = 0\n",
    "velocidadAsteroide = 0\n",
    "sizeMinimo = 25\n",
    "sizeMaximo = 1000\n",
    "speedLimit = 25\n",
    "lightSpeed = 20\n",
    "\n",
    "sizeAsteroide = input(\"Introduce el tamaño de un nuevo asteroide:\")\n",
    "velocidadAsteroide = input(\"Introduce la velocidad del asteroide:\")\n",
    "\n",
    "if int(velocidadAsteroide) > speedLimit and int(sizeAsteroide) > sizeMinimo and int(sizeAsteroide) < sizeMaximo:\n",
    "    print(\"Asteroide peligroso colisionará la tierra.\")\n",
    "elif int(velocidadAsteroide) > speedLimit and int(sizeAsteroide) >= sizeMaximo:\n",
    "    print(\"No se puede calcular la dimension del daño\")\n",
    "elif int(velocidadAsteroide) >= lightSpeed:\n",
    "    print(\"Verás una luz en el cielo desde la tierra.\")\n",
    "elif int(sizeAsteroide) < sizeMinimo:\n",
    "    print(\"Nada de que preocuparse.\")\n",
    "else:\n",
    "    print(\"Nada de que preocuparse.\")\n",
    "\n"
   ]
  }
 ],
 "metadata": {
  "interpreter": {
   "hash": "7fe5bbe798fea9e343f1569ed05771b59e4137ae4cd800ac72506a3d4fc0a4e1"
  },
  "kernelspec": {
   "display_name": "Python 3.10.2 64-bit (windows store)",
   "language": "python",
   "name": "python3"
  },
  "language_info": {
   "codemirror_mode": {
    "name": "ipython",
    "version": 3
   },
   "file_extension": ".py",
   "mimetype": "text/x-python",
   "name": "python",
   "nbconvert_exporter": "python",
   "pygments_lexer": "ipython3",
   "version": "3.10.2"
  },
  "orig_nbformat": 4
 },
 "nbformat": 4,
 "nbformat_minor": 2
}
